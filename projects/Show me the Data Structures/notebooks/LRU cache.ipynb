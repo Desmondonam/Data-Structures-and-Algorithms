{
 "cells": [
  {
   "cell_type": "code",
   "execution_count": 201,
   "metadata": {},
   "outputs": [],
   "source": [
    "class Node:\n",
    "    def __init__(self, key=None, value=None):\n",
    "        self.key = key\n",
    "        self.value = value\n",
    "        self.next = None\n",
    "        self.prev = None\n",
    "\n",
    "\n",
    "class LRU_Cache(object):\n",
    "\n",
    "    def __init__(self, capacity):\n",
    "        if capacity < 1:\n",
    "            print('LRUCache should have capacity > 0')\n",
    "            return\n",
    "        # Initialize class variables\n",
    "        self.capacity = capacity\n",
    "        self.size = 0\n",
    "        self.map = dict()\n",
    "        self.head = None  # this node represents the least recently used\n",
    "        self.tail = None  # this node represents the most recently used\n",
    "\n",
    "    def get_capacity(self):\n",
    "        return self.capacity\n",
    "\n",
    "    def get(self, key):\n",
    "        # Retrieve item from provided key. Return -1 if nonexistent.\n",
    "        if key is None:\n",
    "            return -1\n",
    "        elif key not in self.map:\n",
    "            return -1\n",
    "        else:\n",
    "            node = self.map[key]\n",
    "            self.move_to_front(node)\n",
    "            return node.value\n",
    "\n",
    "    def set(self, key, value):\n",
    "        # Set the value if the key is not present in the cache. If the cache is at capacity remove the oldest item.\n",
    "        \"\"\"\n",
    "        First. we validate the input key\n",
    "        Second. we verify if key is already in the map\n",
    "                If key in map:\n",
    "                    We update the node value and move it to the front\n",
    "                If not in map:\n",
    "                    We create a new node and set it in the map\n",
    "        Third: we validate if we passed the cache capacity\n",
    "        \"\"\"\n",
    "        if key is None or value is None:\n",
    "            return -1\n",
    "\n",
    "        elif key not in self.map:\n",
    "            #print('not in')\n",
    "            node = Node(key, value)\n",
    "            self.map[key] = node\n",
    "            self.add(node)\n",
    "\n",
    "        else:\n",
    "            #print('in')\n",
    "            node = self.map[key]\n",
    "            node.value = value\n",
    "            self.move_to_front(node)\n",
    "\n",
    "        if self.capacity < 0:\n",
    "            self.remove_lru()\n",
    "\n",
    "    def move_to_front(self, node):\n",
    "        self.remove(node)\n",
    "        self.add(node)\n",
    "\n",
    "    def add(self, node):\n",
    "        # add data to the next attribute of the tail (i.e. the end of the queue)\n",
    "        # if head and tail have no values\n",
    "        if self.head is None and self.tail is None:\n",
    "            self.head = node\n",
    "            self.tail = node\n",
    "        # if the linked list has values already\n",
    "        else:\n",
    "            node.next = self.head\n",
    "            node.prev = None\n",
    "            self.head.prev = node\n",
    "            self.head = node\n",
    "\n",
    "        self.capacity = self.capacity - 1\n",
    "        #print(self.capacity)\n",
    "\n",
    "    def remove(self, node):\n",
    "        # if the node we want to delete is the head\n",
    "        if self.head.value == node.value:\n",
    "            next_node = self.head.next\n",
    "            self.head = next_node\n",
    "        # if the node we want to delete is the tail\n",
    "        elif self.tail.value == node.value:\n",
    "            prev_node = self.tail.prev\n",
    "            self.tail = prev_node\n",
    "        # if none of the above happens\n",
    "        else:\n",
    "            prev_node = node.prev\n",
    "            next_node = node.next\n",
    "            prev_node.next = next_node\n",
    "            next_node.prev = prev_node\n",
    "\n",
    "        self.capacity += 1\n",
    "\n",
    "    def remove_lru(self):\n",
    "        node = self.tail\n",
    "        self.remove(node)\n",
    "        del self.map[node.key]\n"
   ]
  },
  {
   "cell_type": "code",
   "execution_count": 202,
   "metadata": {},
   "outputs": [],
   "source": [
    "our_cache = LRU_Cache(5)"
   ]
  },
  {
   "cell_type": "code",
   "execution_count": 203,
   "metadata": {},
   "outputs": [],
   "source": [
    "our_cache.set(1, 11)\n",
    "our_cache.set(2, 22)\n",
    "our_cache.set(3, 33)\n",
    "our_cache.set(4, 44)\n",
    "our_cache.set(5, 55)\n",
    "our_cache.set(6, 66)\n",
    "our_cache.set(7, 77)"
   ]
  },
  {
   "cell_type": "code",
   "execution_count": 204,
   "metadata": {},
   "outputs": [
    {
     "data": {
      "text/plain": [
       "-1"
      ]
     },
     "execution_count": 204,
     "metadata": {},
     "output_type": "execute_result"
    }
   ],
   "source": [
    "our_cache.get(1)\n"
   ]
  },
  {
   "cell_type": "code",
   "execution_count": 205,
   "metadata": {},
   "outputs": [
    {
     "data": {
      "text/plain": [
       "-1"
      ]
     },
     "execution_count": 205,
     "metadata": {},
     "output_type": "execute_result"
    }
   ],
   "source": [
    "our_cache.get(2)"
   ]
  },
  {
   "cell_type": "code",
   "execution_count": 206,
   "metadata": {},
   "outputs": [
    {
     "data": {
      "text/plain": [
       "33"
      ]
     },
     "execution_count": 206,
     "metadata": {},
     "output_type": "execute_result"
    }
   ],
   "source": [
    "our_cache.get(3)"
   ]
  },
  {
   "cell_type": "code",
   "execution_count": 207,
   "metadata": {},
   "outputs": [
    {
     "data": {
      "text/plain": [
       "77"
      ]
     },
     "execution_count": 207,
     "metadata": {},
     "output_type": "execute_result"
    }
   ],
   "source": [
    "our_cache.get(7)"
   ]
  },
  {
   "cell_type": "code",
   "execution_count": 208,
   "metadata": {},
   "outputs": [
    {
     "data": {
      "text/plain": [
       "66"
      ]
     },
     "execution_count": 208,
     "metadata": {},
     "output_type": "execute_result"
    }
   ],
   "source": [
    "our_cache.get(6)"
   ]
  },
  {
   "cell_type": "code",
   "execution_count": 209,
   "metadata": {},
   "outputs": [
    {
     "data": {
      "text/plain": [
       "44"
      ]
     },
     "execution_count": 209,
     "metadata": {},
     "output_type": "execute_result"
    }
   ],
   "source": [
    "our_cache.get(4)"
   ]
  },
  {
   "cell_type": "code",
   "execution_count": 210,
   "metadata": {},
   "outputs": [],
   "source": [
    "our_cache.set(8, 88)"
   ]
  },
  {
   "cell_type": "code",
   "execution_count": 211,
   "metadata": {},
   "outputs": [
    {
     "data": {
      "text/plain": [
       "-1"
      ]
     },
     "execution_count": 211,
     "metadata": {},
     "output_type": "execute_result"
    }
   ],
   "source": [
    "our_cache.get(5)"
   ]
  },
  {
   "cell_type": "code",
   "execution_count": null,
   "metadata": {},
   "outputs": [],
   "source": []
  }
 ],
 "metadata": {
  "kernelspec": {
   "display_name": "Python 3",
   "language": "python",
   "name": "python3"
  },
  "language_info": {
   "codemirror_mode": {
    "name": "ipython",
    "version": 3
   },
   "file_extension": ".py",
   "mimetype": "text/x-python",
   "name": "python",
   "nbconvert_exporter": "python",
   "pygments_lexer": "ipython3",
   "version": "3.6.3"
  }
 },
 "nbformat": 4,
 "nbformat_minor": 2
}
